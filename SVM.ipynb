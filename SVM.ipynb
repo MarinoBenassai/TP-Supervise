{
 "cells": [
  {
   "cell_type": "code",
   "execution_count": 12,
   "id": "06349350",
   "metadata": {},
   "outputs": [
    {
     "data": {
      "text/plain": [
       "'0.24.2'"
      ]
     },
     "execution_count": 12,
     "metadata": {},
     "output_type": "execute_result"
    }
   ],
   "source": [
    "from sklearn.datasets import fetch_openml \n",
    "import sklearn\n",
    "import matplotlib.pyplot as plt\n",
    "from sklearn import neighbors\n",
    "import numpy as np\n",
    "from sklearn import model_selection\n",
    "import time\n",
    "from sklearn.neural_network import MLPClassifier\n",
    "from sklearn import svm\n",
    "from sklearn.metrics import precision_score\n",
    "import random as rd\n",
    "from numpy import linspace\n",
    "from sklearn.metrics import confusion_matrix\n",
    "sklearn.__version__"
   ]
  },
  {
   "cell_type": "code",
   "execution_count": 2,
   "id": "d63e9409",
   "metadata": {},
   "outputs": [],
   "source": [
    "mnist = fetch_openml('mnist_784')"
   ]
  },
  {
   "cell_type": "code",
   "execution_count": 3,
   "id": "a21605f3",
   "metadata": {},
   "outputs": [],
   "source": [
    "#On réduit la taille du jeu de données car SVM devient très lent quand on dépasse 10000 données d'entrée\n",
    "indexes = np.random.randint(70000, size=7000)\n",
    "data = mnist.data.values[indexes]\n",
    "target = mnist.target[indexes]\n",
    "\n",
    "\n",
    "xtrain,  xtest,  ytrain,  ytest = model_selection.train_test_split(data, target, train_size = 0.7)\n",
    "clf = svm.SVC(kernel=\"linear\", verbose = True)"
   ]
  },
  {
   "cell_type": "code",
   "execution_count": 4,
   "id": "9f6aebf3",
   "metadata": {},
   "outputs": [
    {
     "name": "stdout",
     "output_type": "stream",
     "text": [
      "[LibSVM]"
     ]
    },
    {
     "data": {
      "text/plain": [
       "0.9071428571428571"
      ]
     },
     "execution_count": 4,
     "metadata": {},
     "output_type": "execute_result"
    }
   ],
   "source": [
    "clf.fit(xtrain, ytrain)\n",
    "precision_score(ytest, clf.predict(xtest), average='micro')"
   ]
  },
  {
   "cell_type": "code",
   "execution_count": 7,
   "id": "3ce6515d",
   "metadata": {},
   "outputs": [
    {
     "name": "stdout",
     "output_type": "stream",
     "text": [
      "Pour le noyau poly, la précision est de 0.9466666666666667 après 2.251969814300537 secondes.\n",
      "Pour le noyau rbf, la précision est de 0.96 après 3.699800968170166 secondes.\n",
      "Pour le noyau sigmoid, la précision est de 0.8509523809523809 après 2.944850206375122 secondes.\n"
     ]
    }
   ],
   "source": [
    "#Precomputed ne fonctionne pas car il nécessite une forme particulière des données en entrée\n",
    "noyaux = [\"poly\", \"rbf\", \"sigmoid\"]#, \"precomputed\"] \n",
    "\n",
    "xtrain,  xtest,  ytrain,  ytest = model_selection.train_test_split(data, target, train_size = 0.7)\n",
    "for noyau in noyaux:\n",
    "    start_time = time.time()\n",
    "    clf = svm.SVC(kernel=noyau)\n",
    "    clf.fit(xtrain, ytrain)\n",
    "    predicted = precision_score(ytest, clf.predict(xtest), average='micro')\n",
    "    print(f\"Pour le noyau {noyau}, la précision est de {predicted} après {time.time() - start_time} secondes.\")"
   ]
  },
  {
   "cell_type": "code",
   "execution_count": 11,
   "id": "1591126d",
   "metadata": {},
   "outputs": [
    {
     "name": "stdout",
     "output_type": "stream",
     "text": [
      "Pour C = 0.1, la précision est de 0.9266666666666666 après 6.597294330596924 secondes.\n",
      "Pour C = 0.1473684210526316, la précision est de 0.9338095238095238 après 5.817837715148926 secondes.\n",
      "Pour C = 0.19473684210526315, la précision est de 0.9380952380952381 après 5.327130079269409 secondes.\n",
      "Pour C = 0.24210526315789474, la précision est de 0.9404761904761905 après 4.8611860275268555 secondes.\n",
      "Pour C = 0.2894736842105263, la précision est de 0.9452380952380952 après 4.730261564254761 secondes.\n",
      "Pour C = 0.33684210526315794, la précision est de 0.9461904761904761 après 4.412717819213867 secondes.\n",
      "Pour C = 0.38421052631578945, la précision est de 0.9485714285714286 après 4.461808681488037 secondes.\n",
      "Pour C = 0.43157894736842106, la précision est de 0.949047619047619 après 4.1621620655059814 secondes.\n",
      "Pour C = 0.4789473684210527, la précision est de 0.9514285714285714 après 4.1797730922698975 secondes.\n",
      "Pour C = 0.5263157894736842, la précision est de 0.9523809523809523 après 4.132840156555176 secondes.\n",
      "Pour C = 0.5736842105263158, la précision est de 0.9533333333333334 après 4.113776206970215 secondes.\n",
      "Pour C = 0.6210526315789474, la précision est de 0.9542857142857143 après 3.859650135040283 secondes.\n",
      "Pour C = 0.6684210526315789, la précision est de 0.9557142857142857 après 3.7481677532196045 secondes.\n",
      "Pour C = 0.7157894736842105, la précision est de 0.9566666666666667 après 3.7071423530578613 secondes.\n",
      "Pour C = 0.7631578947368421, la précision est de 0.9585714285714285 après 3.8102474212646484 secondes.\n",
      "Pour C = 0.8105263157894737, la précision est de 0.9595238095238096 après 3.7787561416625977 secondes.\n",
      "Pour C = 0.8578947368421053, la précision est de 0.96 après 3.7392282485961914 secondes.\n",
      "Pour C = 0.9052631578947369, la précision est de 0.96 après 3.5866901874542236 secondes.\n",
      "Pour C = 0.9526315789473684, la précision est de 0.9604761904761905 après 3.6215639114379883 secondes.\n",
      "Pour C = 1.0, la précision est de 0.96 après 3.6001081466674805 secondes.\n"
     ]
    }
   ],
   "source": [
    "C = linspace(0.1, 1, 20)\n",
    "\n",
    "for c in C:\n",
    "    start_time = time.time()\n",
    "    clf = svm.SVC(C=c)\n",
    "    clf.fit(xtrain, ytrain)\n",
    "    predicted = precision_score(ytest, clf.predict(xtest), average='micro')\n",
    "    print(f\"Pour C = {c}, la précision est de {predicted} après {time.time() - start_time} secondes.\")\n",
    "#Plus C est proche de 1, plus l'entrainement est rapide et meilleur est le résultat"
   ]
  },
  {
   "cell_type": "code",
   "execution_count": 14,
   "id": "e617585b",
   "metadata": {},
   "outputs": [
    {
     "name": "stdout",
     "output_type": "stream",
     "text": [
      "[[205   0   0   0   0   2   1   0   0   1]\n",
      " [  0 255   0   2   0   0   0   0   0   1]\n",
      " [  1   1 202   0   0   2   2   0   2   0]\n",
      " [  0   1   6 192   0   3   1   2   5   1]\n",
      " [  0   0   0   0 194   0   2   0   0   5]\n",
      " [  0   0   0   6   1 169   1   0   2   2]\n",
      " [  0   0   0   0   0   2 190   0   0   0]\n",
      " [  0   0   2   0   0   0   0 226   0   6]\n",
      " [  1   3   0   4   2   5   2   0 177   1]\n",
      " [  0   0   0   1   2   0   0   0   0 206]]\n"
     ]
    }
   ],
   "source": [
    "cm = confusion_matrix(ytest, clf.predict(xtest))\n",
    "print(cm)"
   ]
  }
 ],
 "metadata": {
  "kernelspec": {
   "display_name": "Python 3",
   "language": "python",
   "name": "python3"
  }
 },
 "nbformat": 4,
 "nbformat_minor": 5
}
