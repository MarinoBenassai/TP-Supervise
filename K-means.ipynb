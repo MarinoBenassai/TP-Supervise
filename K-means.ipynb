{
 "cells": [
  {
   "cell_type": "code",
   "execution_count": 1,
   "id": "2f23d822",
   "metadata": {},
   "outputs": [
    {
     "data": {
      "text/plain": [
       "'0.24.2'"
      ]
     },
     "execution_count": 1,
     "metadata": {},
     "output_type": "execute_result"
    }
   ],
   "source": [
    "from sklearn.datasets import fetch_openml \n",
    "import sklearn\n",
    "import matplotlib.pyplot as plt\n",
    "from sklearn import neighbors\n",
    "import numpy as np\n",
    "from sklearn import model_selection\n",
    "import time\n",
    "sklearn.__version__"
   ]
  },
  {
   "cell_type": "code",
   "execution_count": 2,
   "id": "411e27b1",
   "metadata": {},
   "outputs": [],
   "source": [
    "mnist = fetch_openml('mnist_784')"
   ]
  },
  {
   "cell_type": "code",
   "execution_count": 21,
   "id": "5f478ed2",
   "metadata": {},
   "outputs": [
    {
     "data": {
      "text/html": [
       "<div>\n",
       "<style scoped>\n",
       "    .dataframe tbody tr th:only-of-type {\n",
       "        vertical-align: middle;\n",
       "    }\n",
       "\n",
       "    .dataframe tbody tr th {\n",
       "        vertical-align: top;\n",
       "    }\n",
       "\n",
       "    .dataframe thead th {\n",
       "        text-align: right;\n",
       "    }\n",
       "</style>\n",
       "<table border=\"1\" class=\"dataframe\">\n",
       "  <thead>\n",
       "    <tr style=\"text-align: right;\">\n",
       "      <th></th>\n",
       "      <th>pixel1</th>\n",
       "      <th>pixel2</th>\n",
       "      <th>pixel3</th>\n",
       "      <th>pixel4</th>\n",
       "      <th>pixel5</th>\n",
       "      <th>pixel6</th>\n",
       "      <th>pixel7</th>\n",
       "      <th>pixel8</th>\n",
       "      <th>pixel9</th>\n",
       "      <th>pixel10</th>\n",
       "      <th>...</th>\n",
       "      <th>pixel775</th>\n",
       "      <th>pixel776</th>\n",
       "      <th>pixel777</th>\n",
       "      <th>pixel778</th>\n",
       "      <th>pixel779</th>\n",
       "      <th>pixel780</th>\n",
       "      <th>pixel781</th>\n",
       "      <th>pixel782</th>\n",
       "      <th>pixel783</th>\n",
       "      <th>pixel784</th>\n",
       "    </tr>\n",
       "  </thead>\n",
       "  <tbody>\n",
       "    <tr>\n",
       "      <th>0</th>\n",
       "      <td>0.0</td>\n",
       "      <td>0.0</td>\n",
       "      <td>0.0</td>\n",
       "      <td>0.0</td>\n",
       "      <td>0.0</td>\n",
       "      <td>0.0</td>\n",
       "      <td>0.0</td>\n",
       "      <td>0.0</td>\n",
       "      <td>0.0</td>\n",
       "      <td>0.0</td>\n",
       "      <td>...</td>\n",
       "      <td>0.0</td>\n",
       "      <td>0.0</td>\n",
       "      <td>0.0</td>\n",
       "      <td>0.0</td>\n",
       "      <td>0.0</td>\n",
       "      <td>0.0</td>\n",
       "      <td>0.0</td>\n",
       "      <td>0.0</td>\n",
       "      <td>0.0</td>\n",
       "      <td>0.0</td>\n",
       "    </tr>\n",
       "    <tr>\n",
       "      <th>1</th>\n",
       "      <td>0.0</td>\n",
       "      <td>0.0</td>\n",
       "      <td>0.0</td>\n",
       "      <td>0.0</td>\n",
       "      <td>0.0</td>\n",
       "      <td>0.0</td>\n",
       "      <td>0.0</td>\n",
       "      <td>0.0</td>\n",
       "      <td>0.0</td>\n",
       "      <td>0.0</td>\n",
       "      <td>...</td>\n",
       "      <td>0.0</td>\n",
       "      <td>0.0</td>\n",
       "      <td>0.0</td>\n",
       "      <td>0.0</td>\n",
       "      <td>0.0</td>\n",
       "      <td>0.0</td>\n",
       "      <td>0.0</td>\n",
       "      <td>0.0</td>\n",
       "      <td>0.0</td>\n",
       "      <td>0.0</td>\n",
       "    </tr>\n",
       "    <tr>\n",
       "      <th>2</th>\n",
       "      <td>0.0</td>\n",
       "      <td>0.0</td>\n",
       "      <td>0.0</td>\n",
       "      <td>0.0</td>\n",
       "      <td>0.0</td>\n",
       "      <td>0.0</td>\n",
       "      <td>0.0</td>\n",
       "      <td>0.0</td>\n",
       "      <td>0.0</td>\n",
       "      <td>0.0</td>\n",
       "      <td>...</td>\n",
       "      <td>0.0</td>\n",
       "      <td>0.0</td>\n",
       "      <td>0.0</td>\n",
       "      <td>0.0</td>\n",
       "      <td>0.0</td>\n",
       "      <td>0.0</td>\n",
       "      <td>0.0</td>\n",
       "      <td>0.0</td>\n",
       "      <td>0.0</td>\n",
       "      <td>0.0</td>\n",
       "    </tr>\n",
       "    <tr>\n",
       "      <th>3</th>\n",
       "      <td>0.0</td>\n",
       "      <td>0.0</td>\n",
       "      <td>0.0</td>\n",
       "      <td>0.0</td>\n",
       "      <td>0.0</td>\n",
       "      <td>0.0</td>\n",
       "      <td>0.0</td>\n",
       "      <td>0.0</td>\n",
       "      <td>0.0</td>\n",
       "      <td>0.0</td>\n",
       "      <td>...</td>\n",
       "      <td>0.0</td>\n",
       "      <td>0.0</td>\n",
       "      <td>0.0</td>\n",
       "      <td>0.0</td>\n",
       "      <td>0.0</td>\n",
       "      <td>0.0</td>\n",
       "      <td>0.0</td>\n",
       "      <td>0.0</td>\n",
       "      <td>0.0</td>\n",
       "      <td>0.0</td>\n",
       "    </tr>\n",
       "    <tr>\n",
       "      <th>4</th>\n",
       "      <td>0.0</td>\n",
       "      <td>0.0</td>\n",
       "      <td>0.0</td>\n",
       "      <td>0.0</td>\n",
       "      <td>0.0</td>\n",
       "      <td>0.0</td>\n",
       "      <td>0.0</td>\n",
       "      <td>0.0</td>\n",
       "      <td>0.0</td>\n",
       "      <td>0.0</td>\n",
       "      <td>...</td>\n",
       "      <td>0.0</td>\n",
       "      <td>0.0</td>\n",
       "      <td>0.0</td>\n",
       "      <td>0.0</td>\n",
       "      <td>0.0</td>\n",
       "      <td>0.0</td>\n",
       "      <td>0.0</td>\n",
       "      <td>0.0</td>\n",
       "      <td>0.0</td>\n",
       "      <td>0.0</td>\n",
       "    </tr>\n",
       "    <tr>\n",
       "      <th>...</th>\n",
       "      <td>...</td>\n",
       "      <td>...</td>\n",
       "      <td>...</td>\n",
       "      <td>...</td>\n",
       "      <td>...</td>\n",
       "      <td>...</td>\n",
       "      <td>...</td>\n",
       "      <td>...</td>\n",
       "      <td>...</td>\n",
       "      <td>...</td>\n",
       "      <td>...</td>\n",
       "      <td>...</td>\n",
       "      <td>...</td>\n",
       "      <td>...</td>\n",
       "      <td>...</td>\n",
       "      <td>...</td>\n",
       "      <td>...</td>\n",
       "      <td>...</td>\n",
       "      <td>...</td>\n",
       "      <td>...</td>\n",
       "      <td>...</td>\n",
       "    </tr>\n",
       "    <tr>\n",
       "      <th>95</th>\n",
       "      <td>0.0</td>\n",
       "      <td>0.0</td>\n",
       "      <td>0.0</td>\n",
       "      <td>0.0</td>\n",
       "      <td>0.0</td>\n",
       "      <td>0.0</td>\n",
       "      <td>0.0</td>\n",
       "      <td>0.0</td>\n",
       "      <td>0.0</td>\n",
       "      <td>0.0</td>\n",
       "      <td>...</td>\n",
       "      <td>0.0</td>\n",
       "      <td>0.0</td>\n",
       "      <td>0.0</td>\n",
       "      <td>0.0</td>\n",
       "      <td>0.0</td>\n",
       "      <td>0.0</td>\n",
       "      <td>0.0</td>\n",
       "      <td>0.0</td>\n",
       "      <td>0.0</td>\n",
       "      <td>0.0</td>\n",
       "    </tr>\n",
       "    <tr>\n",
       "      <th>96</th>\n",
       "      <td>0.0</td>\n",
       "      <td>0.0</td>\n",
       "      <td>0.0</td>\n",
       "      <td>0.0</td>\n",
       "      <td>0.0</td>\n",
       "      <td>0.0</td>\n",
       "      <td>0.0</td>\n",
       "      <td>0.0</td>\n",
       "      <td>0.0</td>\n",
       "      <td>0.0</td>\n",
       "      <td>...</td>\n",
       "      <td>0.0</td>\n",
       "      <td>0.0</td>\n",
       "      <td>0.0</td>\n",
       "      <td>0.0</td>\n",
       "      <td>0.0</td>\n",
       "      <td>0.0</td>\n",
       "      <td>0.0</td>\n",
       "      <td>0.0</td>\n",
       "      <td>0.0</td>\n",
       "      <td>0.0</td>\n",
       "    </tr>\n",
       "    <tr>\n",
       "      <th>97</th>\n",
       "      <td>0.0</td>\n",
       "      <td>0.0</td>\n",
       "      <td>0.0</td>\n",
       "      <td>0.0</td>\n",
       "      <td>0.0</td>\n",
       "      <td>0.0</td>\n",
       "      <td>0.0</td>\n",
       "      <td>0.0</td>\n",
       "      <td>0.0</td>\n",
       "      <td>0.0</td>\n",
       "      <td>...</td>\n",
       "      <td>0.0</td>\n",
       "      <td>0.0</td>\n",
       "      <td>0.0</td>\n",
       "      <td>0.0</td>\n",
       "      <td>0.0</td>\n",
       "      <td>0.0</td>\n",
       "      <td>0.0</td>\n",
       "      <td>0.0</td>\n",
       "      <td>0.0</td>\n",
       "      <td>0.0</td>\n",
       "    </tr>\n",
       "    <tr>\n",
       "      <th>98</th>\n",
       "      <td>0.0</td>\n",
       "      <td>0.0</td>\n",
       "      <td>0.0</td>\n",
       "      <td>0.0</td>\n",
       "      <td>0.0</td>\n",
       "      <td>0.0</td>\n",
       "      <td>0.0</td>\n",
       "      <td>0.0</td>\n",
       "      <td>0.0</td>\n",
       "      <td>0.0</td>\n",
       "      <td>...</td>\n",
       "      <td>0.0</td>\n",
       "      <td>0.0</td>\n",
       "      <td>0.0</td>\n",
       "      <td>0.0</td>\n",
       "      <td>0.0</td>\n",
       "      <td>0.0</td>\n",
       "      <td>0.0</td>\n",
       "      <td>0.0</td>\n",
       "      <td>0.0</td>\n",
       "      <td>0.0</td>\n",
       "    </tr>\n",
       "    <tr>\n",
       "      <th>99</th>\n",
       "      <td>0.0</td>\n",
       "      <td>0.0</td>\n",
       "      <td>0.0</td>\n",
       "      <td>0.0</td>\n",
       "      <td>0.0</td>\n",
       "      <td>0.0</td>\n",
       "      <td>0.0</td>\n",
       "      <td>0.0</td>\n",
       "      <td>0.0</td>\n",
       "      <td>0.0</td>\n",
       "      <td>...</td>\n",
       "      <td>0.0</td>\n",
       "      <td>0.0</td>\n",
       "      <td>0.0</td>\n",
       "      <td>0.0</td>\n",
       "      <td>0.0</td>\n",
       "      <td>0.0</td>\n",
       "      <td>0.0</td>\n",
       "      <td>0.0</td>\n",
       "      <td>0.0</td>\n",
       "      <td>0.0</td>\n",
       "    </tr>\n",
       "  </tbody>\n",
       "</table>\n",
       "<p>100 rows × 784 columns</p>\n",
       "</div>"
      ],
      "text/plain": [
       "    pixel1  pixel2  pixel3  pixel4  pixel5  pixel6  pixel7  pixel8  pixel9  \\\n",
       "0      0.0     0.0     0.0     0.0     0.0     0.0     0.0     0.0     0.0   \n",
       "1      0.0     0.0     0.0     0.0     0.0     0.0     0.0     0.0     0.0   \n",
       "2      0.0     0.0     0.0     0.0     0.0     0.0     0.0     0.0     0.0   \n",
       "3      0.0     0.0     0.0     0.0     0.0     0.0     0.0     0.0     0.0   \n",
       "4      0.0     0.0     0.0     0.0     0.0     0.0     0.0     0.0     0.0   \n",
       "..     ...     ...     ...     ...     ...     ...     ...     ...     ...   \n",
       "95     0.0     0.0     0.0     0.0     0.0     0.0     0.0     0.0     0.0   \n",
       "96     0.0     0.0     0.0     0.0     0.0     0.0     0.0     0.0     0.0   \n",
       "97     0.0     0.0     0.0     0.0     0.0     0.0     0.0     0.0     0.0   \n",
       "98     0.0     0.0     0.0     0.0     0.0     0.0     0.0     0.0     0.0   \n",
       "99     0.0     0.0     0.0     0.0     0.0     0.0     0.0     0.0     0.0   \n",
       "\n",
       "    pixel10  ...  pixel775  pixel776  pixel777  pixel778  pixel779  pixel780  \\\n",
       "0       0.0  ...       0.0       0.0       0.0       0.0       0.0       0.0   \n",
       "1       0.0  ...       0.0       0.0       0.0       0.0       0.0       0.0   \n",
       "2       0.0  ...       0.0       0.0       0.0       0.0       0.0       0.0   \n",
       "3       0.0  ...       0.0       0.0       0.0       0.0       0.0       0.0   \n",
       "4       0.0  ...       0.0       0.0       0.0       0.0       0.0       0.0   \n",
       "..      ...  ...       ...       ...       ...       ...       ...       ...   \n",
       "95      0.0  ...       0.0       0.0       0.0       0.0       0.0       0.0   \n",
       "96      0.0  ...       0.0       0.0       0.0       0.0       0.0       0.0   \n",
       "97      0.0  ...       0.0       0.0       0.0       0.0       0.0       0.0   \n",
       "98      0.0  ...       0.0       0.0       0.0       0.0       0.0       0.0   \n",
       "99      0.0  ...       0.0       0.0       0.0       0.0       0.0       0.0   \n",
       "\n",
       "    pixel781  pixel782  pixel783  pixel784  \n",
       "0        0.0       0.0       0.0       0.0  \n",
       "1        0.0       0.0       0.0       0.0  \n",
       "2        0.0       0.0       0.0       0.0  \n",
       "3        0.0       0.0       0.0       0.0  \n",
       "4        0.0       0.0       0.0       0.0  \n",
       "..       ...       ...       ...       ...  \n",
       "95       0.0       0.0       0.0       0.0  \n",
       "96       0.0       0.0       0.0       0.0  \n",
       "97       0.0       0.0       0.0       0.0  \n",
       "98       0.0       0.0       0.0       0.0  \n",
       "99       0.0       0.0       0.0       0.0  \n",
       "\n",
       "[100 rows x 784 columns]"
      ]
     },
     "execution_count": 21,
     "metadata": {},
     "output_type": "execute_result"
    }
   ],
   "source": [
    "#print(mnist) #Affiche l'ensemble des éléments du jeu de données\n",
    "#print (mnist.data) #Affiche pour chaque image la valeur de chaque pixel\n",
    "#print (mnist.target) #Affiche les labels associés à cahque images, ainsi que quelques infos liées aux labels\n",
    "#len(mnist.data) #Affiche le nombre d'images dans le dataset = le nombre de lignes du dataframe\n",
    "#print (mnist.data.shape) #affiche le nombre d'images du dataset et le nombre de pixels par image\n",
    "#print (mnist.target.shape)\n",
    "#mnist.data.values[0] #Affiche la valeur des pixls de la première image du dataset\n",
    "#mnist.data.values[0][1] #Affiche la valeur du deuxième pixel de la première image du dataset\n",
    "#mnist.data.values[:,1] #Affiche le premier pixel de toutes les images du dataset\n",
    "mnist.data[:100] #Affiche les 100 premieres images du dataset"
   ]
  },
  {
   "cell_type": "code",
   "execution_count": 30,
   "id": "90e6ef5b",
   "metadata": {},
   "outputs": [
    {
     "data": {
      "image/png": "[encoded data removed]",
      "text/plain": [
       "<Figure size 432x288 with 1 Axes>"
      ]
     },
     "metadata": {
      "needs_background": "light"
     },
     "output_type": "display_data"
    },
    {
     "name": "stdout",
     "output_type": "stream",
     "text": [
      "1\n"
     ]
    }
   ],
   "source": [
    "nb = 152\n",
    "images = mnist.data.values.reshape((-1,28,28))\n",
    "plt.imshow(images[nb],cmap=plt.cm.gray_r,interpolation=\"nearest\")\n",
    "plt.show()\n",
    "print(mnist.target[nb])"
   ]
  },
  {
   "cell_type": "code",
   "execution_count": 43,
   "id": "f47e533b",
   "metadata": {},
   "outputs": [
    {
     "data": {
      "text/plain": [
       "KNeighborsClassifier(n_neighbors=10)"
      ]
     },
     "execution_count": 43,
     "metadata": {},
     "output_type": "execute_result"
    }
   ],
   "source": [
    "#Création du jeu de données pour l'entrainement et le test\n",
    "indexes = np.random.randint(70000, size=5000)\n",
    "data = mnist.data.values[indexes]\n",
    "target = mnist.target[indexes]\n",
    "xtrain,  xtest,  ytrain,  ytest = model_selection.train_test_split(data, target, train_size = 0.8)\n",
    "\n",
    "#Entrainement du model\n",
    "n_neighbors = 10\n",
    "clf = neighbors.KNeighborsClassifier (n_neighbors)\n",
    "clf.fit(xtrain,ytrain)"
   ]
  },
  {
   "cell_type": "code",
   "execution_count": 58,
   "id": "3dff375d",
   "metadata": {},
   "outputs": [
    {
     "name": "stdout",
     "output_type": "stream",
     "text": [
      "Classe de l'image 4: 2.\n",
      "Classe prédite: 2.\n"
     ]
    }
   ],
   "source": [
    "#Test de prédiction sur une image\n",
    "num_image = 4\n",
    "classe = ytrain.values[num_image]\n",
    "classe_prédite = clf.predict([xtrain[num_image]])[0]\n",
    "print(\"Classe de l'image {}: {}.\\nClasse prédite: {}.\".format(num_image,classe,classe_prédite))"
   ]
  },
  {
   "cell_type": "code",
   "execution_count": 61,
   "id": "971b747c",
   "metadata": {},
   "outputs": [
    {
     "name": "stdout",
     "output_type": "stream",
     "text": [
      "Score sur l'échantillon de test: 0.931\n",
      "Score sur les données d'apprentissage: 0.9365\n"
     ]
    }
   ],
   "source": [
    "print(\"Score sur l'échantillon de test:\", clf.score(xtest,ytest))\n",
    "print(\"Score sur les données d'apprentissage:\", clf.score(xtrain,ytrain))\n",
    "#On a une erreur plus faible sur les données d'apprentissage que sur les données de test, ce qui est normal puisque le modèle cherche à imiter kl==les données d'appprentissage.\n",
    "#On a par contre pas un score parfait sur le jeu d'apprentissage"
   ]
  },
  {
   "cell_type": "code",
   "execution_count": 119,
   "id": "31719f3a",
   "metadata": {},
   "outputs": [
    {
     "name": "stdout",
     "output_type": "stream",
     "text": [
      "Score pour 2 voisins: 0.9145999999999999\n",
      "Score pour 3 voisins: 0.9279999999999999\n",
      "Score pour 4 voisins: 0.9272\n",
      "Score pour 5 voisins: 0.9298\n",
      "Score pour 6 voisins: 0.9254\n",
      "Score pour 7 voisins: 0.9244000000000001\n",
      "Score pour 8 voisins: 0.9212\n",
      "Score pour 9 voisins: 0.9206000000000001\n",
      "Score pour 10 voisins: 0.9184000000000001\n",
      "Score pour 11 voisins: 0.9194000000000001\n",
      "Score pour 12 voisins: 0.9188000000000001\n",
      "Score pour 13 voisins: 0.9174\n",
      "Score pour 14 voisins: 0.9178000000000001\n",
      "Score pour 15 voisins: 0.9178\n"
     ]
    },
    {
     "data": {
      "image/png": "[encoded data removed]",
      "text/plain": [
       "<Figure size 432x288 with 1 Axes>"
      ]
     },
     "metadata": {
      "needs_background": "light"
     },
     "output_type": "display_data"
    }
   ],
   "source": [
    "#Création du jeu de données pour l'entrainement et le test\n",
    "indexes = np.random.randint(70000, size=5000)\n",
    "data = mnist.data.values[indexes]\n",
    "target = mnist.target[indexes]\n",
    "#xtrain,  xtest,  ytrain,  ytest = model_selection.train_test_split(data, target, train_size = 0.8)\n",
    "n_splits = 10\n",
    "kf = model_selection.KFold(n_splits=n_splits, shuffle=True) \n",
    "\n",
    "scores = []\n",
    "\n",
    "for k in range(2,16):\n",
    "    score = 0\n",
    "    for label_train, label_test in kf.split(data,target):\n",
    "        clf = neighbors.KNeighborsClassifier (k)\n",
    "        clf.fit(data[label_train],target.values[label_train])\n",
    "        score+=clf.score(data[label_test],target.values[label_test])\n",
    "    score/=n_splits\n",
    "    scores.append(score)\n",
    "    print(\"Score pour {} voisins: {}\".format(k,scores[-1]) )\n",
    "    \n",
    "\n",
    "plt.plot(list(range(2,16)),scores)\n",
    "plt.show()\n",
    "#Le k optimal semble être 3"
   ]
  },
  {
   "cell_type": "code",
   "execution_count": 120,
   "id": "b77976bc",
   "metadata": {},
   "outputs": [
    {
     "data": {
      "text/plain": [
       "[<matplotlib.lines.Line2D at 0x7f873b8db610>]"
      ]
     },
     "execution_count": 120,
     "metadata": {},
     "output_type": "execute_result"
    },
    {
     "data": {
      "image/png": "[encoded data removed]",
      "text/plain": [
       "<Figure size 432x288 with 1 Axes>"
      ]
     },
     "metadata": {
      "needs_background": "light"
     },
     "output_type": "display_data"
    }
   ],
   "source": [
    "indexes = np.random.randint(70000, size=5000)\n",
    "data = mnist.data.values[indexes]\n",
    "target = mnist.target[indexes]\n",
    "scores = []\n",
    "for i in range(1,1000):\n",
    "    xtrain,  xtest,  ytrain,  ytest = model_selection.train_test_split(data, target, train_size = i/1000)\n",
    "    clf = neighbors.KNeighborsClassifier (3)\n",
    "    clf.fit(xtrain, ytrain)\n",
    "    scores.append(clf.score(xtest,ytest))\n",
    "    #print(\"Taille du tarining test: {}, score: {}\".format(i/100,scores[-1]))\n",
    "\n",
    "plt.plot([e/1000 for e in range(1,1000)],scores)\n",
    "\n",
    "#Plus on a de données dans le training test, meilleur est le modèle.\n",
    "#Cette amélioration est très forte au départ, mais ralentie lorsque le pourcentage augmente\n",
    "#Lorsque le pourcentage est trop grand, la variance augmente fortement.\n",
    "#Il faut laisser un nombre suffisant de données dans le set de test\n",
    "\n",
    "#Avant 15-20% on a pas assez de données dans le jeu d'entrainement, et on peut gagner grandement en qualité du modèle si on en rajoute.\n",
    "#Entre 20% et 85-90%, le modèle continue à s'améliorer avec l'augmentation des données, mais cette amélioration est beaucoup moins remarquable et les performances du modèle reste approximativement les mêmes.\n",
    "#Au-delà de 90%, le score commence à varier grandement car le nombre de données dans le set de test devient trop petit, et les résultats peuvent ne plus être représentatifs."
   ]
  },
  {
   "cell_type": "code",
   "execution_count": 122,
   "id": "57957806",
   "metadata": {},
   "outputs": [
    {
     "name": "stdout",
     "output_type": "stream",
     "text": [
      "Avancement:  0.105\n",
      "Avancement:  0.11\n"
     ]
    },
    {
     "data": {
      "text/plain": [
       "[<matplotlib.lines.Line2D at 0x7f873b9c0490>]"
      ]
     },
     "execution_count": 122,
     "metadata": {},
     "output_type": "execute_result"
    },
    {
     "data": {
      "image/png": "[encoded data removed]",
      "text/plain": [
       "<Figure size 432x288 with 1 Axes>"
      ]
     },
     "metadata": {
      "needs_background": "light"
     },
     "output_type": "display_data"
    }
   ],
   "source": [
    "scores = []\n",
    "for i in range(50,10000,50):\n",
    "    indexes = np.random.randint(70000, size=i)\n",
    "    data = mnist.data.values[indexes]\n",
    "    target = mnist.target[indexes]\n",
    "    xtrain,  xtest,  ytrain,  ytest = model_selection.train_test_split(data, target, train_size = 0.8)\n",
    "    clf = neighbors.KNeighborsClassifier (3)\n",
    "    clf.fit(xtrain, ytrain)\n",
    "    scores.append(clf.score(xtest,ytest))\n",
    "\n",
    "plt.plot([e*0.8 for e in range(50,10000,50)],scores)\n",
    "\n",
    "#Plus la taille du training set est grande, meilleur est le modèle"
   ]
  },
  {
   "cell_type": "code",
   "execution_count": 9,
   "id": "e8f8eb0a",
   "metadata": {},
   "outputs": [
    {
     "name": "stdout",
     "output_type": "stream",
     "text": [
      "Score pour p=1 : 0.914\n",
      "Score pour p=2 : 0.925\n",
      "Score pour p=3 : 0.928\n",
      "Score pour p=4 : 0.927\n",
      "Score pour p=5 : 0.929\n",
      "Score pour p=6 : 0.931\n",
      "Score pour p=7 : 0.933\n",
      "Score pour p=8 : 0.938\n",
      "Score pour p=9 : 0.935\n",
      "Score pour p=10 : 0.936\n",
      "Score pour p=11 : 0.937\n",
      "Score pour p=12 : 0.936\n",
      "Score pour p=13 : 0.936\n",
      "Score pour p=14 : 0.937\n",
      "Score pour p=15 : 0.935\n",
      "Score pour p=16 : 0.933\n",
      "Score pour p=17 : 0.933\n",
      "Score pour p=18 : 0.933\n",
      "Score pour p=19 : 0.934\n",
      "Score pour p=20 : 0.935\n"
     ]
    },
    {
     "data": {
      "text/plain": [
       "[<matplotlib.lines.Line2D at 0x7fae1c03a790>]"
      ]
     },
     "execution_count": 9,
     "metadata": {},
     "output_type": "execute_result"
    },
    {
     "data": {
      "image/png": "[encoded data removed]",
      "text/plain": [
       "<Figure size 432x288 with 1 Axes>"
      ]
     },
     "metadata": {
      "needs_background": "light"
     },
     "output_type": "display_data"
    }
   ],
   "source": [
    "scores = []\n",
    "\n",
    "indexes = np.random.randint(70000, size=5000)\n",
    "data = mnist.data.values[indexes]\n",
    "target = mnist.target[indexes]\n",
    "xtrain,  xtest,  ytrain,  ytest = model_selection.train_test_split(data, target, train_size = 0.8)\n",
    "\n",
    "for i in range(1,21):\n",
    "    clf = neighbors.KNeighborsClassifier (3, p=i, n_jobs = -1)\n",
    "    clf.fit(xtrain, ytrain)\n",
    "    scores.append(clf.score(xtest,ytest))\n",
    "    print(\"Score pour p={} : {}\".format(i,scores[-1]) )\n",
    "    \n",
    "plt.plot([e for e in range(1,21)],scores)\n",
    "\n",
    "#La meilleure distance dans ce cas semble être entre p=7 et p = 15. Le temps de calcul est beaucoup plus faible pour p=1 ou 2"
   ]
  },
  {
   "cell_type": "code",
   "execution_count": 7,
   "id": "3f5e0722",
   "metadata": {},
   "outputs": [
    {
     "name": "stdout",
     "output_type": "stream",
     "text": [
      "Temps écoulé pour n_job = 1 : 24.982622623443604\n",
      "Temps écoulé pour n_job = -1 : 3.6891965866088867\n"
     ]
    }
   ],
   "source": [
    "indexes = np.random.randint(70000, size=5000)\n",
    "data = mnist.data.values[indexes]\n",
    "target = mnist.target[indexes]\n",
    "xtrain,  xtest,  ytrain,  ytest = model_selection.train_test_split(data, target, train_size = 0.8)\n",
    "\n",
    "start_time = time.time()\n",
    "clf = neighbors.KNeighborsClassifier (3, p=7, n_jobs = 1)\n",
    "clf.fit(xtrain, ytrain)\n",
    "scores.append(clf.score(xtest,ytest))\n",
    "end_time = time.time()\n",
    "print(\"Temps écoulé pour n_job = 1 : {}\".format(end_time - start_time) )\n",
    "\n",
    "start_time = time.time()\n",
    "clf = neighbors.KNeighborsClassifier (3, p=7, n_jobs = -1)\n",
    "clf.fit(xtrain, ytrain)\n",
    "scores.append(clf.score(xtest,ytest))\n",
    "end_time = time.time()\n",
    "print(\"Temps écoulé pour n_job = -1 : {}\".format(end_time - start_time) )"
   ]
  },
  {
   "cell_type": "code",
   "execution_count": 10,
   "id": "39a60909",
   "metadata": {},
   "outputs": [],
   "source": [
    "#Avantage:\n",
    "#Pas d'apprentissage, le modèle est obtenu directement\n",
    "\n",
    "#Inconvénients: \n",
    "#Chaque prédiction prend beaucoup de temps, surtout si le nombre de points est grand\n",
    "#Pas d'apprentissage don on doit garder l'intégralité des points en mémoire"
   ]
  },
  {
   "cell_type": "code",
   "execution_count": 11,
   "id": "e44d6940",
   "metadata": {},
   "outputs": [
    {
     "name": "stdout",
     "output_type": "stream",
     "text": [
      "Score pour p=1 : 0.9234\n",
      "Score pour p=2 : 0.9347999999999999\n",
      "Score pour p=3 : 0.9391999999999999\n",
      "Score pour p=4 : 0.9391999999999999\n",
      "Score pour p=5 : 0.9424000000000001\n",
      "Score pour p=6 : 0.9423999999999998\n",
      "Score pour p=7 : 0.9384\n",
      "Score pour p=8 : 0.9416\n",
      "Score pour p=9 : 0.9404\n",
      "Score pour p=10 : 0.9388\n",
      "Score pour p=11 : 0.9413999999999998\n",
      "Score pour p=12 : 0.942\n",
      "Score pour p=13 : 0.9385999999999999\n",
      "Score pour p=14 : 0.9392000000000001\n",
      "Score pour p=15 : 0.9414\n",
      "Score pour p=16 : 0.9398\n",
      "Score pour p=17 : 0.9400000000000002\n",
      "Score pour p=18 : 0.942\n",
      "Score pour p=19 : 0.9423999999999999\n",
      "Score pour p=20 : 0.9385999999999999\n"
     ]
    },
    {
     "data": {
      "text/plain": [
       "[<matplotlib.lines.Line2D at 0x7fad78e11640>]"
      ]
     },
     "execution_count": 11,
     "metadata": {},
     "output_type": "execute_result"
    },
    {
     "data": {
      "image/png": "[encoded data removed]",
      "text/plain": [
       "<Figure size 432x288 with 1 Axes>"
      ]
     },
     "metadata": {
      "needs_background": "light"
     },
     "output_type": "display_data"
    }
   ],
   "source": [
    "scores = []\n",
    "\n",
    "indexes = np.random.randint(70000, size=5000)\n",
    "data = mnist.data.values[indexes]\n",
    "target = mnist.target[indexes]\n",
    "n_splits = 10\n",
    "kf = model_selection.KFold(n_splits=n_splits, shuffle=True) \n",
    "\n",
    "for i in range(1,21):\n",
    "    score = 0\n",
    "    for label_train, label_test in kf.split(data,target):\n",
    "        clf = neighbors.KNeighborsClassifier (3, p=i, n_jobs = -1)\n",
    "        clf.fit(data[label_train],target.values[label_train])\n",
    "        score+=clf.score(data[label_test],target.values[label_test])\n",
    "    score/=n_splits\n",
    "    scores.append(score)\n",
    "    print(\"Score pour p={} : {}\".format(i,scores[-1]) )\n",
    "    \n",
    "plt.plot([e for e in range(1,21)],scores)\n",
    "#Toute distance supérieure à 3 semble être équivalente en terme de précision du modèle"
   ]
  },
  {
   "cell_type": "code",
   "execution_count": 12,
   "id": "7e7d49fd",
   "metadata": {},
   "outputs": [
    {
     "data": {
      "text/plain": [
       "KNeighborsClassifier(n_jobs=1, n_neighbors=3, p=7)"
      ]
     },
     "execution_count": 12,
     "metadata": {},
     "output_type": "execute_result"
    }
   ],
   "source": []
  },
  {
   "cell_type": "code",
   "execution_count": 13,
   "id": "94d0130f",
   "metadata": {},
   "outputs": [],
   "source": [
    "scores.append(clf.score(xtest,ytest))"
   ]
  },
  {
   "cell_type": "code",
   "execution_count": null,
   "id": "79eff8e1",
   "metadata": {},
   "outputs": [],
   "source": []
  }
 ],
 "metadata": {
  "kernelspec": {
   "display_name": "Python 3",
   "language": "python",
   "name": "python3"
  },
  "language_info": {
   "codemirror_mode": {
    "name": "ipython",
    "version": 3
   },
   "file_extension": ".py",
   "mimetype": "text/x-python",
   "name": "python",
   "nbconvert_exporter": "python",
   "pygments_lexer": "ipython3",
   "version": "3.8.10"
  }
 },
 "nbformat": 4,
 "nbformat_minor": 5
}
